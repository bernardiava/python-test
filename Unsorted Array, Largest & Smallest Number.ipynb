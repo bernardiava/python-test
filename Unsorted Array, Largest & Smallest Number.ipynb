{
 "cells": [
  {
   "cell_type": "code",
   "execution_count": 1,
   "metadata": {},
   "outputs": [
    {
     "name": "stdout",
     "output_type": "stream",
     "text": [
      "[16 56 44 73 49 85 17 83] are the unsorted array of integers\n",
      "85 is the largest number, found by using max(n)\n",
      "16 is the smallest number, found by using min(n)\n"
     ]
    }
   ],
   "source": [
    "#Given an unsorted array of integers, how do you find the largest and smallest number?\n",
    "\n",
    "import numpy as np\n",
    "n = np.random.randint(1,90,8,dtype=int) \n",
    "print(n, \"are the unsorted array of integers\") #random unsorted array of integers\n",
    "largest = max(n) #largest number\n",
    "print(largest, \"is the largest number, found by using max(n)\")\n",
    "smallest = min(n) \n",
    "print(smallest,\"is the smallest number, found by using min(n)\") #smallest number\n"
   ]
  },
  {
   "cell_type": "code",
   "execution_count": null,
   "metadata": {},
   "outputs": [],
   "source": []
  }
 ],
 "metadata": {
  "kernelspec": {
   "display_name": "Python 3",
   "language": "python",
   "name": "python3"
  },
  "language_info": {
   "codemirror_mode": {
    "name": "ipython",
    "version": 3
   },
   "file_extension": ".py",
   "mimetype": "text/x-python",
   "name": "python",
   "nbconvert_exporter": "python",
   "pygments_lexer": "ipython3",
   "version": "3.7.0"
  }
 },
 "nbformat": 4,
 "nbformat_minor": 2
}
