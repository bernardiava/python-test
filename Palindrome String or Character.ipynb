{
 "cells": [
  {
   "cell_type": "code",
   "execution_count": 2,
   "metadata": {},
   "outputs": [
    {
     "name": "stdout",
     "output_type": "stream",
     "text": [
      "Yes\n"
     ]
    }
   ],
   "source": [
    "#Write a function that takes in a string or character array as input.\n",
    "#The function will check whether the input is a palindrome \n",
    "#(i.e. a series of characters that is equivalent read from left-to-right and right-to-left). \n",
    "#Your function should ignore the input's capitalization.\n",
    "\n",
    "\n",
    "def isPalindrome(b):\n",
    "    return b == b[::-1]\n",
    " \n",
    "a = \"grgrrgrg\" #input here\n",
    "b = a.lower()\n",
    "ans = isPalindrome(b)\n",
    " \n",
    "if ans:\n",
    "    print(\"Yes\")\n",
    "else:\n",
    "    print(\"No\")"
   ]
  },
  {
   "cell_type": "code",
   "execution_count": null,
   "metadata": {},
   "outputs": [],
   "source": []
  }
 ],
 "metadata": {
  "kernelspec": {
   "display_name": "Python 3",
   "language": "python",
   "name": "python3"
  },
  "language_info": {
   "codemirror_mode": {
    "name": "ipython",
    "version": 3
   },
   "file_extension": ".py",
   "mimetype": "text/x-python",
   "name": "python",
   "nbconvert_exporter": "python",
   "pygments_lexer": "ipython3",
   "version": "3.7.0"
  }
 },
 "nbformat": 4,
 "nbformat_minor": 2
}
